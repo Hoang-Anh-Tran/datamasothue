{
 "cells": [
  {
   "cell_type": "code",
   "execution_count": 2,
   "id": "86c64478",
   "metadata": {},
   "outputs": [],
   "source": [
    "import pytesseract\n",
    "from PIL import Image\n",
    "import cv2"
   ]
  },
  {
   "cell_type": "code",
   "execution_count": null,
   "id": "9e16cc31",
   "metadata": {},
   "outputs": [
    {
     "name": "stderr",
     "output_type": "stream",
     "text": [
      "[ WARN:0@193.614] global loadsave.cpp:275 findDecoder imread_('data:image/png;base64,iVBORw0KGgoAAAANSUhEUgAAAEkAAAAOCAIAAADsTKZfAAADHklEQVRIid2WP0jrUBTGjzWEEEqHEDJIKOLYoZRSREEylVIyCJZSHEREpINThyClSAYHcRCHDiIlBIciEhw6iIhTyCAlUykIDiIO0iFI6CChBOG84eblCcZAhceDd6aTj+/2l+/+ye0MIsJ/Wol//QJ/sf5ZtrW1tdnZ2eXl5YeHh7/FwN/V6/VYli2Xyzc3N/ipHMepVqs0TbdarZ+Zv4qapgFAp9ORZXl+ft73/be3t/X1dUEQKIra2dmJB/m+n8/nk8lkIpHY3d39jhJk8zxPEIRyuWwYBkVRhmEQ/fHxMZ1OcxzX6XQA4Pr6elpzpLi0tJTL5RDRtm0AuL299X2/Vqt1u91erwcA5+fnMaDxeEzTdDKZlGW53W5/Rwmy6bqeSCReX18RsVgsFotFoi8sLHAcNxwODcMAgKOjo2nNkSLDMPV6HREnkwkAnJychGtSrVYBQNf1GFC73WZZ1nXdcFQkJcgmy3KhUCC9oig8z5P++Pj4/v4eEXO5HACYpjmtOVLkeX5/fz/YOQCHh4eI+P7+XqvVACCfz3ueFwPKZrOZTOb5+TnMFkkJsgmCsL29Tfpms0lRFH4qstCZTOYH5khRUZRKpeK67unpKQBcXFyMRiNRFAGAoqjBYBAPKhQKxKmqagwlyEZRVLPZJP3W1lYqlQoHjEYjjuMAINzuU5kjRc/zSqUS+ZjRNO04ztPTEwAwDAMAoig6jhMPcl231WoBQPiN+UoJsvE8rygK6bPZ7OLiIuk/Pj4kSQKAlZWV8HenMkeKpGzb5jhuc3OTPL68vCDiYDAIT+B3IFLj8Tjcz5GUINvq6mqpVEJEMn/hWp+dnZHZNU2TnIFpzZEiqXq9zrIsiRTWwcEB2aUxIFKNRgMALMv6jhJksyyLpmld1yVJYhiGfJoQ8erq6vNl2O12pzVHioh4eXlJrjjy6DjO3d3dxsYGAEiS5Pt+DMiyLOLc29uLQf+5uzVNm5ub43n+81FBRNu2+/1+v98fDofhlExljhRVVW00GuFA0zRTqVQ6nVZVdTKZxL9VpVIRRVHTtHj0DP6//5V/AQtaWbpgyVrdAAAAAElFTkSuQmCC'): can't open/read file: check file path/integrity\n"
     ]
    },
    {
     "ename": "error",
     "evalue": "OpenCV(4.12.0) /io/opencv/modules/imgproc/src/color.cpp:199: error: (-215:Assertion failed) !_src.empty() in function 'cvtColor'\n",
     "output_type": "error",
     "traceback": [
      "\u001b[0;31m---------------------------------------------------------------------------\u001b[0m",
      "\u001b[0;31merror\u001b[0m                                     Traceback (most recent call last)",
      "Cell \u001b[0;32mIn[5], line 8\u001b[0m\n\u001b[1;32m      5\u001b[0m image \u001b[38;5;241m=\u001b[39m cv2\u001b[38;5;241m.\u001b[39mimread(\u001b[38;5;124m\"\u001b[39m\u001b[38;5;124mdata:image/png;base64,iVBORw0KGgoAAAANSUhEUgAAAEkAAAAOCAIAAADsTKZfAAADHklEQVRIid2WP0jrUBTGjzWEEEqHEDJIKOLYoZRSREEylVIyCJZSHEREpINThyClSAYHcRCHDiIlBIciEhw6iIhTyCAlUykIDiIO0iFI6CChBOG84eblCcZAhceDd6aTj+/2l+/+ye0MIsJ/Wol//QJ/sf5ZtrW1tdnZ2eXl5YeHh7/FwN/V6/VYli2Xyzc3N/ipHMepVqs0TbdarZ+Zv4qapgFAp9ORZXl+ft73/be3t/X1dUEQKIra2dmJB/m+n8/nk8lkIpHY3d39jhJk8zxPEIRyuWwYBkVRhmEQ/fHxMZ1OcxzX6XQA4Pr6elpzpLi0tJTL5RDRtm0AuL299X2/Vqt1u91erwcA5+fnMaDxeEzTdDKZlGW53W5/Rwmy6bqeSCReX18RsVgsFotFoi8sLHAcNxwODcMAgKOjo2nNkSLDMPV6HREnkwkAnJychGtSrVYBQNf1GFC73WZZ1nXdcFQkJcgmy3KhUCC9oig8z5P++Pj4/v4eEXO5HACYpjmtOVLkeX5/fz/YOQCHh4eI+P7+XqvVACCfz3ueFwPKZrOZTOb5+TnMFkkJsgmCsL29Tfpms0lRFH4qstCZTOYH5khRUZRKpeK67unpKQBcXFyMRiNRFAGAoqjBYBAPKhQKxKmqagwlyEZRVLPZJP3W1lYqlQoHjEYjjuMAINzuU5kjRc/zSqUS+ZjRNO04ztPTEwAwDAMAoig6jhMPcl231WoBQPiN+UoJsvE8rygK6bPZ7OLiIuk/Pj4kSQKAlZWV8HenMkeKpGzb5jhuc3OTPL68vCDiYDAIT+B3IFLj8Tjcz5GUINvq6mqpVEJEMn/hWp+dnZHZNU2TnIFpzZEiqXq9zrIsiRTWwcEB2aUxIFKNRgMALMv6jhJksyyLpmld1yVJYhiGfJoQ8erq6vNl2O12pzVHioh4eXlJrjjy6DjO3d3dxsYGAEiS5Pt+DMiyLOLc29uLQf+5uzVNm5ub43n+81FBRNu2+/1+v98fDofhlExljhRVVW00GuFA0zRTqVQ6nVZVdTKZxL9VpVIRRVHTtHj0DP6//5V/AQtaWbpgyVrdAAAAAElFTkSuQmCC\u001b[39m\u001b[38;5;124m\"\u001b[39m)\n\u001b[1;32m      7\u001b[0m \u001b[38;5;66;03m# Convert to RGB (Tesseract needs RGB, not BGR)\u001b[39;00m\n\u001b[0;32m----> 8\u001b[0m image_rgb \u001b[38;5;241m=\u001b[39m cv2\u001b[38;5;241m.\u001b[39mcvtColor(image, cv2\u001b[38;5;241m.\u001b[39mCOLOR_BGR2RGB)\n\u001b[1;32m     10\u001b[0m \u001b[38;5;66;03m# OCR: extract text\u001b[39;00m\n\u001b[1;32m     11\u001b[0m text \u001b[38;5;241m=\u001b[39m pytesseract\u001b[38;5;241m.\u001b[39mimage_to_string(image_rgb)\n",
      "\u001b[0;31merror\u001b[0m: OpenCV(4.12.0) /io/opencv/modules/imgproc/src/color.cpp:199: error: (-215:Assertion failed) !_src.empty() in function 'cvtColor'\n"
     ]
    }
   ],
   "source": [
    "\n",
    "\n",
    "# Optional: Set path to tesseract executable (for Windows only)\n",
    "# pytesseract.pytesseract.tesseract_cmd = r'C:\\Program Files\\Tesseract-OCR\\tesseract.exe'\n",
    "\n",
    "# Load image\n",
    "image = cv2.imread(\"\")\n",
    "\n",
    "# Convert to RGB (Tesseract needs RGB, not BGR)\n",
    "image_rgb = cv2.cvtColor(image, cv2.COLOR_BGR2RGB)\n",
    "\n",
    "# OCR: extract text\n",
    "text = pytesseract.image_to_string(image_rgb)\n",
    "\n",
    "# Print result\n",
    "print(text)\n"
   ]
  },
  {
   "cell_type": "code",
   "execution_count": 7,
   "id": "bdb05568",
   "metadata": {},
   "outputs": [
    {
     "name": "stdout",
     "output_type": "stream",
     "text": [
      "0202293052\n",
      "\n"
     ]
    }
   ],
   "source": [
    "import pytesseract\n",
    "from PIL import Image\n",
    "import base64\n",
    "import io\n",
    "\n",
    "# Nếu dùng Windows, cần set path:\n",
    "# pytesseract.pytesseract.tesseract_cmd = r\"C:\\Program Files\\Tesseract-OCR\\tesseract.exe\"\n",
    "\n",
    "# Link ảnh base64\n",
    "data_url = \"data:image/png;base64,iVBORw0KGgoAAAANSUhEUgAAAEkAAAAOCAIAAADsTKZfAAADHklEQVRIid2WP0jrUBTGjzWEEEqHEDJIKOLYoZRSREEylVIyCJZSHEREpINThyClSAYHcRCHDiIlBIciEhw6iIhTyCAlUykIDiIO0iFI6CChBOG84eblCcZAhceDd6aTj+/2l+/+ye0MIsJ/Wol//QJ/sf5ZtrW1tdnZ2eXl5YeHh7/FwN/V6/VYli2Xyzc3N/ipHMepVqs0TbdarZ+Zv4qapgFAp9ORZXl+ft73/be3t/X1dUEQKIra2dmJB/m+n8/nk8lkIpHY3d39jhJk8zxPEIRyuWwYBkVRhmEQ/fHxMZ1OcxzX6XQA4Pr6elpzpLi0tJTL5RDRtm0AuL299X2/Vqt1u91erwcA5+fnMaDxeEzTdDKZlGW53W5/Rwmy6bqeSCReX18RsVgsFotFoi8sLHAcNxwODcMAgKOjo2nNkSLDMPV6HREnkwkAnJychGtSrVYBQNf1GFC73WZZ1nXdcFQkJcgmy3KhUCC9oig8z5P++Pj4/v4eEXO5HACYpjmtOVLkeX5/fz/YOQCHh4eI+P7+XqvVACCfz3ueFwPKZrOZTOb5+TnMFkkJsgmCsL29Tfpms0lRFH4qstCZTOYH5khRUZRKpeK67unpKQBcXFyMRiNRFAGAoqjBYBAPKhQKxKmqagwlyEZRVLPZJP3W1lYqlQoHjEYjjuMAINzuU5kjRc/zSqUS+ZjRNO04ztPTEwAwDAMAoig6jhMPcl231WoBQPiN+UoJsvE8rygK6bPZ7OLiIuk/Pj4kSQKAlZWV8HenMkeKpGzb5jhuc3OTPL68vCDiYDAIT+B3IFLj8Tjcz5GUINvq6mqpVEJEMn/hWp+dnZHZNU2TnIFpzZEiqXq9zrIsiRTWwcEB2aUxIFKNRgMALMv6jhJksyyLpmld1yVJYhiGfJoQ8erq6vNl2O12pzVHioh4eXlJrjjy6DjO3d3dxsYGAEiS5Pt+DMiyLOLc29uLQf+5uzVNm5ub43n+81FBRNu2+/1+v98fDofhlExljhRVVW00GuFA0zRTqVQ6nVZVdTKZxL9VpVIRRVHTtHj0DP6//5V/AQtaWbpgyVrdAAAAAElFTkSuQmCC\"\n",
    "\n",
    "# Tách phần base64 ra khỏi tiền tố 'data:image/png;base64,'\n",
    "header, encoded = data_url.split(',', 1)\n",
    "\n",
    "# Giải mã base64 thành bytes\n",
    "image_data = base64.b64decode(encoded)\n",
    "\n",
    "# Chuyển bytes thành ảnh PIL\n",
    "image = Image.open(io.BytesIO(image_data))\n",
    "\n",
    "# OCR với pytesseract\n",
    "text = pytesseract.image_to_string(image)\n",
    "\n",
    "# In kết quả\n",
    "print(text)\n"
   ]
  },
  {
   "cell_type": "code",
   "execution_count": 1,
   "id": "2ca68a68",
   "metadata": {},
   "outputs": [],
   "source": [
    "import scrapy\n",
    "from scrapy.crawler import CrawlerRunner\n",
    "from twisted.internet import reactor, defer\n",
    "from scrapy.utils.log import configure_logging\n",
    "\n",
    "configure_logging({\"LOG_LEVEL\": \"ERROR\"})\n",
    "\n",
    "class PageSourceSpider(scrapy.Spider):\n",
    "    name = \"page_source_spider\"\n",
    "    def __init__(self, url=None, *args, **kwargs):\n",
    "        super().__init__(*args, **kwargs)\n",
    "        self.start_urls = [url]\n",
    "\n",
    "    def parse(self, response):\n",
    "        self.crawler.stats.set_value(\"html_source\", response.text)\n",
    "\n",
    "@defer.inlineCallbacks\n",
    "def crawl_and_get_html(url):\n",
    "    runner = CrawlerRunner()\n",
    "    yield runner.crawl(PageSourceSpider, url=url)\n",
    "    stats = runner.spider_loader._spiders[PageSourceSpider.name].crawler.stats\n",
    "    html = stats.get_value(\"html_source\")\n",
    "    print(html[:500])\n",
    "    reactor.stop()\n"
   ]
  },
  {
   "cell_type": "code",
   "execution_count": 2,
   "id": "272486a3",
   "metadata": {},
   "outputs": [
    {
     "name": "stderr",
     "output_type": "stream",
     "text": [
      "2025-08-13 15:46:53 [scrapy.addons] INFO: Enabled addons:\n",
      "[]\n",
      "Unhandled error in Deferred:\n",
      "2025-08-13 15:46:53 [twisted] CRITICAL: Unhandled error in Deferred:\n",
      "\n",
      "Traceback (most recent call last):\n",
      "  File \"/home/hoanganh12/anaconda3/lib/python3.12/site-packages/scrapy/crawler.py\", line 339, in crawl\n",
      "    return self._crawl(crawler, *args, **kwargs)\n",
      "  File \"/home/hoanganh12/anaconda3/lib/python3.12/site-packages/scrapy/crawler.py\", line 343, in _crawl\n",
      "    d = crawler.crawl(*args, **kwargs)\n",
      "  File \"/home/hoanganh12/anaconda3/lib/python3.12/site-packages/twisted/internet/defer.py\", line 2256, in unwindGenerator\n",
      "    return _cancellableInlineCallbacks(gen)\n",
      "  File \"/home/hoanganh12/anaconda3/lib/python3.12/site-packages/twisted/internet/defer.py\", line 2168, in _cancellableInlineCallbacks\n",
      "    _inlineCallbacks(None, gen, status, _copy_context())\n",
      "--- <exception caught here> ---\n",
      "  File \"/tmp/ipykernel_41416/1668673248.py\", line 20, in crawl_and_get_html\n",
      "    yield runner.crawl(PageSourceSpider, url=url)\n",
      "  File \"/home/hoanganh12/anaconda3/lib/python3.12/site-packages/twisted/internet/defer.py\", line 2000, in _inlineCallbacks\n",
      "    result = context.run(gen.send, result)\n",
      "  File \"/home/hoanganh12/anaconda3/lib/python3.12/site-packages/scrapy/crawler.py\", line 154, in crawl\n",
      "    self._apply_settings()\n",
      "  File \"/home/hoanganh12/anaconda3/lib/python3.12/site-packages/scrapy/crawler.py\", line 124, in _apply_settings\n",
      "    verify_installed_reactor(reactor_class)\n",
      "  File \"/home/hoanganh12/anaconda3/lib/python3.12/site-packages/scrapy/utils/reactor.py\", line 171, in verify_installed_reactor\n",
      "    raise RuntimeError(\n",
      "builtins.RuntimeError: The installed reactor (twisted.internet.epollreactor.EPollReactor) does not match the requested one (twisted.internet.asyncioreactor.AsyncioSelectorReactor)\n",
      "\n",
      "2025-08-13 15:46:53 [twisted] CRITICAL: \n",
      "Traceback (most recent call last):\n",
      "  File \"/tmp/ipykernel_41416/1668673248.py\", line 20, in crawl_and_get_html\n",
      "    yield runner.crawl(PageSourceSpider, url=url)\n",
      "  File \"/home/hoanganh12/anaconda3/lib/python3.12/site-packages/twisted/internet/defer.py\", line 2000, in _inlineCallbacks\n",
      "    result = context.run(gen.send, result)\n",
      "  File \"/home/hoanganh12/anaconda3/lib/python3.12/site-packages/scrapy/crawler.py\", line 154, in crawl\n",
      "    self._apply_settings()\n",
      "  File \"/home/hoanganh12/anaconda3/lib/python3.12/site-packages/scrapy/crawler.py\", line 124, in _apply_settings\n",
      "    verify_installed_reactor(reactor_class)\n",
      "  File \"/home/hoanganh12/anaconda3/lib/python3.12/site-packages/scrapy/utils/reactor.py\", line 171, in verify_installed_reactor\n",
      "    raise RuntimeError(\n",
      "RuntimeError: The installed reactor (twisted.internet.epollreactor.EPollReactor) does not match the requested one (twisted.internet.asyncioreactor.AsyncioSelectorReactor)\n"
     ]
    }
   ],
   "source": [
    "crawl_and_get_html(\"https://masothue.com/3200570958-cong-ty-trach-nhiem-huu-han-mot-thanh-vien-minh-manh-long?t=1755061038602\")\n",
    "reactor.run()"
   ]
  },
  {
   "cell_type": "code",
   "execution_count": null,
   "id": "39b9bcee",
   "metadata": {},
   "outputs": [],
   "source": []
  }
 ],
 "metadata": {
  "kernelspec": {
   "display_name": "base",
   "language": "python",
   "name": "python3"
  },
  "language_info": {
   "codemirror_mode": {
    "name": "ipython",
    "version": 3
   },
   "file_extension": ".py",
   "mimetype": "text/x-python",
   "name": "python",
   "nbconvert_exporter": "python",
   "pygments_lexer": "ipython3",
   "version": "3.12.7"
  }
 },
 "nbformat": 4,
 "nbformat_minor": 5
}
